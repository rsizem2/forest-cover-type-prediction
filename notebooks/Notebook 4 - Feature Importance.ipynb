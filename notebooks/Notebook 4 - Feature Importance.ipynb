{
 "cells": [
  {
   "cell_type": "markdown",
   "id": "68af42ae",
   "metadata": {},
   "source": [
    "# Notebook 4 - Feature Importance\n",
    "\n",
    "In this notebook, we check the feature importances using permutation."
   ]
  },
  {
   "cell_type": "code",
   "execution_count": 1,
   "id": "9f56aac3",
   "metadata": {},
   "outputs": [],
   "source": [
    "# Global variables for testing changes to this notebook quickly\n",
    "RANDOM_SEED = 0\n",
    "NUM_FOLDS = 12"
   ]
  },
  {
   "cell_type": "code",
   "execution_count": 2,
   "id": "b423bcdf",
   "metadata": {},
   "outputs": [],
   "source": [
    "import numpy as np\n",
    "import pandas as pd\n",
    "import time\n",
    "import pyarrow\n",
    "import gc\n",
    "\n",
    "# Model evaluation\n",
    "from functools import partial\n",
    "from sklearn.base import clone\n",
    "from sklearn.preprocessing import LabelEncoder\n",
    "from sklearn.model_selection import StratifiedKFold, train_test_split\n",
    "from sklearn.metrics import accuracy_score, recall_score\n",
    "from sklearn.tree import DecisionTreeClassifier\n",
    "from sklearn.ensemble import AdaBoostClassifier, BaggingClassifier, ExtraTreesClassifier, RandomForestClassifier\n",
    "from sklearn.inspection import partial_dependence, permutation_importance\n",
    "\n",
    "# Plotting\n",
    "import matplotlib\n",
    "import seaborn as sns\n",
    "from matplotlib import pyplot as plt\n",
    "\n",
    "# Hide warnings\n",
    "import warnings\n",
    "warnings.filterwarnings('ignore')"
   ]
  },
  {
   "cell_type": "markdown",
   "id": "b5744397",
   "metadata": {},
   "source": [
    "# Load Data"
   ]
  },
  {
   "cell_type": "code",
   "execution_count": 3,
   "id": "79081368",
   "metadata": {},
   "outputs": [],
   "source": [
    "def categorical_encoding(input_df):\n",
    "    data = input_df.copy()\n",
    "    data['Soil_Type'] = 0\n",
    "    soil_features = list()\n",
    "    for i in range(1,41):\n",
    "        data['Soil_Type'] += i*data[f'Soil_Type{i}']\n",
    "        soil_features.append(f'Soil_Type{i}')\n",
    "    nonsoil_features = [x for x in data.columns if x not in soil_features]\n",
    "    return data[nonsoil_features]"
   ]
  },
  {
   "cell_type": "code",
   "execution_count": 17,
   "id": "a7523315",
   "metadata": {},
   "outputs": [
    {
     "name": "stdout",
     "output_type": "stream",
     "text": [
      "Wall time: 222 ms\n"
     ]
    }
   ],
   "source": [
    "%%time\n",
    "\n",
    "# Load original data\n",
    "original = categorical_encoding(pd.read_feather('../data/original.feather'))\n",
    "\n",
    "# Label Encode\n",
    "old_encoder = LabelEncoder()\n",
    "original[\"Cover_Type\"] = old_encoder.fit_transform(original[\"Cover_Type\"])\n",
    "y_train = original['Cover_Type'].iloc[:15119]\n",
    "y_test = original['Cover_Type'].iloc[15119:]\n",
    "\n",
    "# Get feature columns\n",
    "features = [x for x in original.columns if x not in ['Id','Cover_Type']]"
   ]
  },
  {
   "cell_type": "markdown",
   "id": "1edc275f",
   "metadata": {},
   "source": [
    "# Scoring and Plotting Functions\n",
    "\n",
    "The plotting functions are borrowed from [this example](https://scikit-learn.org/stable/auto_examples/ensemble/plot_forest_importances.html) in the scikit-learn documentation."
   ]
  },
  {
   "cell_type": "code",
   "execution_count": 5,
   "id": "be522a1f",
   "metadata": {},
   "outputs": [],
   "source": [
    "def train_original(sklearn_model, processing = None):\n",
    "    \n",
    "    # Original Training/Test Split\n",
    "    features = [x for x in original.columns if x not in ['Id','Cover_Type']]\n",
    "    X_temp = original[features].iloc[:15119]\n",
    "    X_test = original[features].iloc[15119:]\n",
    "    y_temp = original['Cover_Type'].iloc[:15119]\n",
    "    y_test = original['Cover_Type'].iloc[15119:]\n",
    "    \n",
    "    # Feature Engineering\n",
    "    if processing:\n",
    "        X_temp = processing(X_temp)\n",
    "        X_test = processing(X_test)\n",
    "    \n",
    "    # Store the out-of-fold predictions\n",
    "    test_preds = np.zeros((X_test.shape[0],7))\n",
    "    oof_preds = np.zeros((X_temp.shape[0],))\n",
    "    fi_scores = np.zeros((X_temp.shape[1],))\n",
    "    scores, times = np.zeros(NUM_FOLDS), np.zeros(NUM_FOLDS)\n",
    "    \n",
    "    # Stratified k-fold cross-validation\n",
    "    skf = StratifiedKFold(n_splits = NUM_FOLDS, shuffle = True, random_state = RANDOM_SEED)\n",
    "    for fold, (train_idx, valid_idx) in enumerate(skf.split(X_temp,y_temp)):\n",
    "       \n",
    "        # Training and Validation Sets\n",
    "        X_train, X_valid = X_temp.iloc[train_idx], X_temp.iloc[valid_idx]\n",
    "        y_train, y_valid = y_temp.iloc[train_idx], y_temp.iloc[valid_idx]\n",
    "        \n",
    "        # Create model\n",
    "        start = time.time()\n",
    "        model = clone(sklearn_model)\n",
    "        model.fit(X_train, y_train)\n",
    "\n",
    "        # Permutation Importance\n",
    "        result = permutation_importance(\n",
    "            model, X_valid, y_valid, \n",
    "            n_repeats=10, random_state=RANDOM_SEED, n_jobs=-1\n",
    "        )\n",
    "        fi_scores += result.importances_mean / NUM_FOLDS\n",
    "\n",
    "        # validation/holdout predictions\n",
    "        valid_preds = np.ravel(model.predict(X_valid))\n",
    "        oof_preds[valid_idx] = valid_preds\n",
    "        test_preds += model.predict_proba(X_test)\n",
    "\n",
    "        # Save scores and times\n",
    "        scores[fold] = accuracy_score(y_valid, valid_preds)\n",
    "        end = time.time()\n",
    "        times[fold] = end-start\n",
    "        time.sleep(0.5)\n",
    "    \n",
    "    test_preds = np.argmax(test_preds, axis = 1)\n",
    "    test_score = accuracy_score(y_test, test_preds)\n",
    "    print('\\n'+model.__class__.__name__)\n",
    "    print(\"Train Accuracy:\", round(scores.mean(), 5))\n",
    "    print('Test Accuracy:', round(test_score, 5))\n",
    "    print(f'Training Time: {round(times.sum(), 2)}s')\n",
    "    \n",
    "    return pd.Series(\n",
    "        data = fi_scores, \n",
    "        index = features\n",
    "    ).sort_values()"
   ]
  },
  {
   "cell_type": "markdown",
   "id": "c73fb786",
   "metadata": {},
   "source": [
    "# Baselines"
   ]
  },
  {
   "cell_type": "markdown",
   "id": "b904fc27",
   "metadata": {},
   "source": [
    "## 1. ExtraTrees"
   ]
  },
  {
   "cell_type": "code",
   "execution_count": 6,
   "id": "0ed3207f",
   "metadata": {},
   "outputs": [],
   "source": [
    "extratrees = ExtraTreesClassifier(\n",
    "    n_jobs = -1,\n",
    "    random_state = RANDOM_SEED,\n",
    "    max_features = None,\n",
    ")"
   ]
  },
  {
   "cell_type": "code",
   "execution_count": 7,
   "id": "709c80ec",
   "metadata": {},
   "outputs": [
    {
     "name": "stdout",
     "output_type": "stream",
     "text": [
      "\n",
      "ExtraTreesClassifier\n",
      "Train Accuracy: 0.88538\n",
      "Test Accuracy: 0.78206\n",
      "Training Time: 95.27s\n"
     ]
    },
    {
     "data": {
      "text/plain": [
       "Hillshade_3pm                         0.000609\n",
       "Wilderness_Area2                      0.001687\n",
       "Slope                                 0.002573\n",
       "Aspect                                0.010326\n",
       "Hillshade_Noon                        0.012018\n",
       "Vertical_Distance_To_Hydrology        0.015028\n",
       "Wilderness_Area3                      0.020987\n",
       "Wilderness_Area1                      0.022739\n",
       "Hillshade_9am                         0.028844\n",
       "Horizontal_Distance_To_Hydrology      0.063417\n",
       "Horizontal_Distance_To_Fire_Points    0.089490\n",
       "Horizontal_Distance_To_Roadways       0.105305\n",
       "Soil_Type                             0.231934\n",
       "Wilderness_Area4                      0.243944\n",
       "Elevation                             0.476791\n",
       "dtype: float64"
      ]
     },
     "execution_count": 7,
     "metadata": {},
     "output_type": "execute_result"
    }
   ],
   "source": [
    "train_original(extratrees)"
   ]
  },
  {
   "cell_type": "markdown",
   "id": "ab7c1ad1",
   "metadata": {},
   "source": [
    "## 2. Bagging"
   ]
  },
  {
   "cell_type": "code",
   "execution_count": 8,
   "id": "d7472028",
   "metadata": {},
   "outputs": [],
   "source": [
    "bagging = BaggingClassifier(\n",
    "    base_estimator = DecisionTreeClassifier(\n",
    "        splitter = 'random',\n",
    "        random_state = RANDOM_SEED,\n",
    "    ),\n",
    "    n_jobs = -1,\n",
    "    random_state = RANDOM_SEED,\n",
    ")"
   ]
  },
  {
   "cell_type": "code",
   "execution_count": 9,
   "id": "dea3c050",
   "metadata": {},
   "outputs": [
    {
     "name": "stdout",
     "output_type": "stream",
     "text": [
      "\n",
      "BaggingClassifier\n",
      "Train Accuracy: 0.85006\n",
      "Test Accuracy: 0.75982\n",
      "Training Time: 36.85s\n"
     ]
    },
    {
     "data": {
      "text/plain": [
       "Wilderness_Area2                      0.001204\n",
       "Slope                                 0.008579\n",
       "Hillshade_3pm                         0.008585\n",
       "Hillshade_Noon                        0.021556\n",
       "Aspect                                0.021708\n",
       "Vertical_Distance_To_Hydrology        0.027462\n",
       "Wilderness_Area1                      0.039135\n",
       "Wilderness_Area3                      0.044951\n",
       "Hillshade_9am                         0.045829\n",
       "Horizontal_Distance_To_Hydrology      0.063913\n",
       "Horizontal_Distance_To_Fire_Points    0.083643\n",
       "Horizontal_Distance_To_Roadways       0.102970\n",
       "Soil_Type                             0.246215\n",
       "Wilderness_Area4                      0.280245\n",
       "Elevation                             0.429830\n",
       "dtype: float64"
      ]
     },
     "execution_count": 9,
     "metadata": {},
     "output_type": "execute_result"
    }
   ],
   "source": [
    "train_original(bagging)"
   ]
  },
  {
   "cell_type": "markdown",
   "id": "6998b1ba",
   "metadata": {},
   "source": [
    "## 3. Random Forest"
   ]
  },
  {
   "cell_type": "code",
   "execution_count": 10,
   "id": "7301870c",
   "metadata": {},
   "outputs": [],
   "source": [
    "randomforest = RandomForestClassifier(\n",
    "    n_jobs = -1,\n",
    "    random_state = RANDOM_SEED,\n",
    ")"
   ]
  },
  {
   "cell_type": "code",
   "execution_count": 11,
   "id": "436585ea",
   "metadata": {},
   "outputs": [
    {
     "name": "stdout",
     "output_type": "stream",
     "text": [
      "\n",
      "RandomForestClassifier\n",
      "Train Accuracy: 0.86454\n",
      "Test Accuracy: 0.74822\n",
      "Training Time: 78.85s\n"
     ]
    },
    {
     "data": {
      "text/plain": [
       "Wilderness_Area2                      0.001429\n",
       "Slope                                 0.004173\n",
       "Hillshade_3pm                         0.004378\n",
       "Aspect                                0.011383\n",
       "Wilderness_Area3                      0.013400\n",
       "Hillshade_Noon                        0.016304\n",
       "Hillshade_9am                         0.018241\n",
       "Vertical_Distance_To_Hydrology        0.019856\n",
       "Wilderness_Area4                      0.022899\n",
       "Wilderness_Area1                      0.026992\n",
       "Horizontal_Distance_To_Hydrology      0.046928\n",
       "Horizontal_Distance_To_Fire_Points    0.080125\n",
       "Horizontal_Distance_To_Roadways       0.103525\n",
       "Soil_Type                             0.166313\n",
       "Elevation                             0.350493\n",
       "dtype: float64"
      ]
     },
     "execution_count": 11,
     "metadata": {},
     "output_type": "execute_result"
    }
   ],
   "source": [
    "train_original(randomforest)"
   ]
  },
  {
   "cell_type": "markdown",
   "id": "6c8fc040",
   "metadata": {},
   "source": [
    "# Feature Engineering"
   ]
  },
  {
   "cell_type": "code",
   "execution_count": 18,
   "id": "bb266ee2",
   "metadata": {},
   "outputs": [],
   "source": [
    "def feature_engineering(data):\n",
    "    \n",
    "    df = data.copy()\n",
    "    \n",
    "    # Distance Interactions\n",
    "    \n",
    "    df['Hydro_Fire_1'] = df['Horizontal_Distance_To_Hydrology'] + df['Horizontal_Distance_To_Fire_Points']\n",
    "    df['Hydro_Fire_2'] = abs(df['Horizontal_Distance_To_Hydrology'] - df['Horizontal_Distance_To_Fire_Points'])\n",
    "    df['Hydro_Road_1'] = abs(df['Horizontal_Distance_To_Hydrology'] + df['Horizontal_Distance_To_Roadways'])\n",
    "    df['Hydro_Road_2'] = abs(df['Horizontal_Distance_To_Hydrology'] - df['Horizontal_Distance_To_Roadways'])\n",
    "    df['Fire_Road_1'] = abs(df['Horizontal_Distance_To_Fire_Points'] + df['Horizontal_Distance_To_Roadways'])\n",
    "    df['Fire_Road_2'] = abs(df['Horizontal_Distance_To_Fire_Points'] - df['Horizontal_Distance_To_Roadways'])\n",
    "    \n",
    "    # ELU soil codes\n",
    "    code = {\n",
    "        1:2702,2:2703,3:2704,4:2705,5:2706,6:2717,7:3501,8:3502,9:4201,\n",
    "        10:4703,11:4704,12:4744,13:4758,14:5101,15:5151,16:6101,17:6102,\n",
    "        18:6731,19:7101,20:7102,21:7103,22:7201,23:7202,24:7700,25:7701,\n",
    "        26:7702,27:7709,28:7710,29:7745,30:7746,31:7755,32:7756,33:7757,\n",
    "        34:7790,35:8703,36:8707,37:8708,38:8771,39:8772,40:8776\n",
    "    }\n",
    "    \n",
    "    # Climatic Zone\n",
    "    df['Climatic_Zone'] = df['Soil_Type'].apply(lambda x: int(str(code[x])[0]))\n",
    "    \n",
    "    # Geologic Zone\n",
    "    df['Geologic_Zone'] = df['Soil_Type'].apply(lambda x: int(str(code[x])[1]))\n",
    "    \n",
    "    # Surface cover by rocks\n",
    "    no_desc = [7,8,14,15,16,17,19,20,21,23,35]\n",
    "    stony = [6,12]\n",
    "    very_stony = [2,9,18,26]\n",
    "    extremely_stony = [1,22,24,25,27,28,29,30,31,32,33,34,36,37,38,39,40]\n",
    "    rubbly = [3,4,5,10,11,13]\n",
    "    surface_cover = {i:0 for i in no_desc}\n",
    "    surface_cover.update({i:1 for i in stony})\n",
    "    surface_cover.update({i:2 for i in very_stony})\n",
    "    surface_cover.update({i:3 for i in extremely_stony})\n",
    "    surface_cover.update({i:4 for i in rubbly})\n",
    "    \n",
    "    df['Surface_Cover'] = df['Soil_Type'].apply(lambda x: surface_cover[x])\n",
    "\n",
    "    # Rock size\n",
    "    no_desc = [7,8,14,15,16,17,19,20,21,23,35]\n",
    "    stones = [1,2,6,9,12,18,24,25,26,27,28,29,30,31,32,33,34,36,37,38,39,40]\n",
    "    boulders = [22]\n",
    "    rubble = [3,4,5,10,11,13]\n",
    "    rock_size = {i:0 for i in no_desc}\n",
    "    rock_size.update({i:1 for i in stones})\n",
    "    rock_size.update({i:2 for i in boulders})\n",
    "    rock_size.update({i:3 for i in rubble})\n",
    "    \n",
    "    df['Rock_Size'] = df['Soil_Type'].apply(lambda x: rock_size[x])\n",
    "\n",
    "            \n",
    "    # Wilderness Interactions\n",
    "    #df['Climate_Area1'] = df['Wilderness_Area1']*df['Climatic_Zone'] \n",
    "    #df['Climate_Area2'] = df['Wilderness_Area2']*df['Climatic_Zone'] \n",
    "    #df['Climate_Area3'] = df['Wilderness_Area3']*df['Climatic_Zone'] \n",
    "    #df['Climate_Area4'] = df['Wilderness_Area4']*df['Climatic_Zone'] \n",
    "    #df['Geologic_Area1'] = df['Wilderness_Area1']*df['Geologic_Zone'] \n",
    "    #df['Geologic_Area2'] = df['Wilderness_Area2']*df['Geologic_Zone']  \n",
    "    #df['Geologic_Area3'] = df['Wilderness_Area3']*df['Geologic_Zone'] \n",
    "    #df['Geologic_Area4'] = df['Wilderness_Area4']*df['Geologic_Zone'] \n",
    "    df['Rock_Area1'] = df['Wilderness_Area1']*df['Rock_Size'] \n",
    "    #df['Rock_Area2'] = df['Wilderness_Area2']*df['Rock_Size']   \n",
    "    df['Rock_Area3'] = df['Wilderness_Area3']*df['Rock_Size']  \n",
    "    df['Rock_Area4'] = df['Wilderness_Area4']*df['Rock_Size']\n",
    "    #df['Surface_Area1'] = df['Wilderness_Area1']*df['Surface_Cover'] \n",
    "    #df['Surface_Area2'] = df['Wilderness_Area2']*df['Surface_Cover']   \n",
    "    #df['Surface_Area3'] = df['Wilderness_Area3']*df['Surface_Cover']  \n",
    "    #df['Surface_Area4'] = df['Wilderness_Area4']*df['Surface_Cover'] \n",
    "    \n",
    "    for col, dtype in df.dtypes.iteritems():\n",
    "        if dtype.name.startswith('int'):\n",
    "            df[col] = pd.to_numeric(df[col], downcast ='integer')\n",
    "        elif dtype.name.startswith('float'):\n",
    "            df[col] = pd.to_numeric(df[col], downcast ='float')\n",
    "    \n",
    "    return df"
   ]
  },
  {
   "cell_type": "code",
   "execution_count": 19,
   "id": "7110614b",
   "metadata": {},
   "outputs": [
    {
     "name": "stdout",
     "output_type": "stream",
     "text": [
      "Wall time: 1.03 s\n"
     ]
    }
   ],
   "source": [
    "%%time\n",
    "\n",
    "original = feature_engineering(original)"
   ]
  },
  {
   "cell_type": "markdown",
   "id": "c1dfb048",
   "metadata": {},
   "source": [
    "# New Features"
   ]
  },
  {
   "cell_type": "markdown",
   "id": "c800800f",
   "metadata": {},
   "source": [
    "## 1. ExtraTrees"
   ]
  },
  {
   "cell_type": "code",
   "execution_count": 20,
   "id": "ce59013a",
   "metadata": {},
   "outputs": [
    {
     "name": "stdout",
     "output_type": "stream",
     "text": [
      "\n",
      "ExtraTreesClassifier\n",
      "Train Accuracy: 0.90105\n",
      "Test Accuracy: 0.8051\n",
      "Training Time: 142.22s\n"
     ]
    },
    {
     "data": {
      "text/plain": [
       "Rock_Size                             0.000351\n",
       "Rock_Area3                            0.000966\n",
       "Surface_Cover                         0.001039\n",
       "Rock_Area4                            0.001336\n",
       "Hillshade_3pm                         0.001349\n",
       "Slope                                 0.001350\n",
       "Wilderness_Area3                      0.002242\n",
       "Wilderness_Area2                      0.003671\n",
       "Horizontal_Distance_To_Roadways       0.004861\n",
       "Geologic_Zone                         0.005272\n",
       "Hydro_Fire_1                          0.005543\n",
       "Horizontal_Distance_To_Fire_Points    0.005602\n",
       "Hydro_Road_1                          0.006786\n",
       "Aspect                                0.006952\n",
       "Hydro_Fire_2                          0.007170\n",
       "Hillshade_Noon                        0.008843\n",
       "Vertical_Distance_To_Hydrology        0.009101\n",
       "Wilderness_Area1                      0.009121\n",
       "Hydro_Road_2                          0.010470\n",
       "Hillshade_9am                         0.015246\n",
       "Fire_Road_1                           0.015610\n",
       "Fire_Road_2                           0.017104\n",
       "Rock_Area1                            0.018209\n",
       "Soil_Type                             0.035484\n",
       "Horizontal_Distance_To_Hydrology      0.037695\n",
       "Climatic_Zone                         0.074456\n",
       "Wilderness_Area4                      0.189959\n",
       "Elevation                             0.423310\n",
       "dtype: float64"
      ]
     },
     "execution_count": 20,
     "metadata": {},
     "output_type": "execute_result"
    }
   ],
   "source": [
    "train_original(extratrees)"
   ]
  },
  {
   "cell_type": "markdown",
   "id": "7a9c8467",
   "metadata": {},
   "source": [
    "## 2. Bagging"
   ]
  },
  {
   "cell_type": "code",
   "execution_count": 21,
   "id": "67bef069",
   "metadata": {},
   "outputs": [
    {
     "name": "stdout",
     "output_type": "stream",
     "text": [
      "\n",
      "BaggingClassifier\n",
      "Train Accuracy: 0.87188\n",
      "Test Accuracy: 0.78268\n",
      "Training Time: 52.2s\n"
     ]
    },
    {
     "data": {
      "text/plain": [
       "Wilderness_Area2                      0.002500\n",
       "Rock_Area3                            0.002666\n",
       "Surface_Cover                         0.003287\n",
       "Hillshade_3pm                         0.004643\n",
       "Rock_Size                             0.004788\n",
       "Slope                                 0.005245\n",
       "Rock_Area4                            0.005940\n",
       "Geologic_Zone                         0.006681\n",
       "Wilderness_Area3                      0.007501\n",
       "Vertical_Distance_To_Hydrology        0.013877\n",
       "Hillshade_Noon                        0.014181\n",
       "Aspect                                0.014809\n",
       "Horizontal_Distance_To_Roadways       0.015867\n",
       "Hydro_Road_1                          0.015868\n",
       "Horizontal_Distance_To_Fire_Points    0.016615\n",
       "Hydro_Fire_1                          0.016906\n",
       "Hydro_Fire_2                          0.017680\n",
       "Wilderness_Area1                      0.018646\n",
       "Rock_Area1                            0.024379\n",
       "Hillshade_9am                         0.027132\n",
       "Fire_Road_2                           0.028031\n",
       "Hydro_Road_2                          0.028448\n",
       "Fire_Road_1                           0.030141\n",
       "Horizontal_Distance_To_Hydrology      0.046603\n",
       "Soil_Type                             0.053290\n",
       "Wilderness_Area4                      0.174138\n",
       "Climatic_Zone                         0.205774\n",
       "Elevation                             0.367193\n",
       "dtype: float64"
      ]
     },
     "execution_count": 21,
     "metadata": {},
     "output_type": "execute_result"
    }
   ],
   "source": [
    "train_original(bagging)"
   ]
  },
  {
   "cell_type": "markdown",
   "id": "c869d339",
   "metadata": {},
   "source": [
    "## 3. Random Forest"
   ]
  },
  {
   "cell_type": "code",
   "execution_count": 22,
   "id": "4a572158",
   "metadata": {},
   "outputs": [
    {
     "name": "stdout",
     "output_type": "stream",
     "text": [
      "\n",
      "RandomForestClassifier\n",
      "Train Accuracy: 0.88928\n",
      "Test Accuracy: 0.78285\n",
      "Training Time: 111.52s\n"
     ]
    },
    {
     "data": {
      "text/plain": [
       "Wilderness_Area2                      0.000437\n",
       "Geologic_Zone                         0.001045\n",
       "Rock_Area1                            0.001336\n",
       "Rock_Size                             0.001826\n",
       "Surface_Cover                         0.001839\n",
       "Rock_Area3                            0.001998\n",
       "Rock_Area4                            0.002050\n",
       "Slope                                 0.002176\n",
       "Wilderness_Area1                      0.002355\n",
       "Wilderness_Area3                      0.002461\n",
       "Hillshade_3pm                         0.003506\n",
       "Aspect                                0.006647\n",
       "Vertical_Distance_To_Hydrology        0.006780\n",
       "Wilderness_Area4                      0.006885\n",
       "Horizontal_Distance_To_Fire_Points    0.006905\n",
       "Climatic_Zone                         0.006938\n",
       "Hydro_Fire_2                          0.007633\n",
       "Horizontal_Distance_To_Roadways       0.007917\n",
       "Hydro_Fire_1                          0.008526\n",
       "Hillshade_Noon                        0.008770\n",
       "Hillshade_9am                         0.009762\n",
       "Hydro_Road_1                          0.010331\n",
       "Hydro_Road_2                          0.011430\n",
       "Fire_Road_2                           0.014393\n",
       "Soil_Type                             0.019406\n",
       "Fire_Road_1                           0.023666\n",
       "Horizontal_Distance_To_Hydrology      0.023751\n",
       "Elevation                             0.257756\n",
       "dtype: float64"
      ]
     },
     "execution_count": 22,
     "metadata": {},
     "output_type": "execute_result"
    }
   ],
   "source": [
    "train_original(randomforest)"
   ]
  },
  {
   "cell_type": "code",
   "execution_count": null,
   "id": "6d261449",
   "metadata": {},
   "outputs": [],
   "source": []
  }
 ],
 "metadata": {
  "kernelspec": {
   "display_name": "Python 3 (ipykernel)",
   "language": "python",
   "name": "python3"
  },
  "language_info": {
   "codemirror_mode": {
    "name": "ipython",
    "version": 3
   },
   "file_extension": ".py",
   "mimetype": "text/x-python",
   "name": "python",
   "nbconvert_exporter": "python",
   "pygments_lexer": "ipython3",
   "version": "3.8.10"
  }
 },
 "nbformat": 4,
 "nbformat_minor": 5
}
