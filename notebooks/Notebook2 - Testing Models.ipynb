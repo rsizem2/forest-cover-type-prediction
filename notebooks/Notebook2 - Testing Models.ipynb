{
 "cells": [
  {
   "cell_type": "markdown",
   "id": "08ff93a3",
   "metadata": {},
   "source": [
    "# Notebook 2: Testing Models\n",
    "\n",
    "In this notebook we test various models in two different ways:\n",
    "\n",
    "1. Using the original train/valid/test split \n",
    "2. Using stratified cross-validation on all of the data\n",
    "\n",
    "In the original paper the train and validation sets were balanced with respect to the class labels however the testing data is very imbalanced. The dataset on the whole is very imbalanced w.r.t. classes."
   ]
  },
  {
   "cell_type": "code",
   "execution_count": null,
   "id": "060d59bb",
   "metadata": {},
   "outputs": [],
   "source": [
    "pass"
   ]
  }
 ],
 "metadata": {
  "kernelspec": {
   "display_name": "Python 3 (ipykernel)",
   "language": "python",
   "name": "python3"
  },
  "language_info": {
   "codemirror_mode": {
    "name": "ipython",
    "version": 3
   },
   "file_extension": ".py",
   "mimetype": "text/x-python",
   "name": "python",
   "nbconvert_exporter": "python",
   "pygments_lexer": "ipython3",
   "version": "3.8.10"
  }
 },
 "nbformat": 4,
 "nbformat_minor": 5
}
